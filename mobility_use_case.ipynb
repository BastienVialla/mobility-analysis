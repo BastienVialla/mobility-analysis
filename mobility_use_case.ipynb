{
 "cells": [
  {
   "cell_type": "markdown",
   "metadata": {
    "tags": []
   },
   "source": [
    "# CRYPTECS Mobility Use Case"
   ]
  },
  {
   "cell_type": "code",
   "execution_count": 13,
   "metadata": {},
   "outputs": [],
   "source": [
    "import pandas as pd\n",
    "import numpy as np\n",
    "from datetime import datetime, timedelta\n",
    "\n",
    "import json\n",
    "\n",
    "from tqdm.auto import tqdm\n",
    "tqdm.pandas()"
   ]
  },
  {
   "cell_type": "markdown",
   "metadata": {},
   "source": [
    "Remove comment from the following cell to install the dependencies."
   ]
  },
  {
   "cell_type": "code",
   "execution_count": 14,
   "metadata": {},
   "outputs": [],
   "source": [
    "# Basic packages needed\n",
    "# ! pip install numpy pandas tqdm\n",
    "\n",
    "# For visualisation\n",
    "# ! pip install keplergl geopandas\n",
    "\n",
    "# For privacy attacks\n",
    "# ! pip install scikit-mobility"
   ]
  },
  {
   "cell_type": "markdown",
   "metadata": {
    "tags": []
   },
   "source": [
    "## Load data\n",
    "\n",
    "We used Shanghai Telecom dataset. However, due to the small number of individuals (9000) for a large span of times, we generated (25000) synthetic individuals based on the diestra algorithm.\n",
    "\n",
    "UIDs in [1, 25 000] are synthetic data. UIDs in [25 001, 34 616] are real inidividuals."
   ]
  },
  {
   "cell_type": "code",
   "execution_count": 15,
   "metadata": {},
   "outputs": [],
   "source": [
    "data = pd.read_csv('./data.csv')"
   ]
  },
  {
   "cell_type": "code",
   "execution_count": 16,
   "metadata": {},
   "outputs": [
    {
     "data": {
      "text/html": [
       "<div>\n",
       "<style scoped>\n",
       "    .dataframe tbody tr th:only-of-type {\n",
       "        vertical-align: middle;\n",
       "    }\n",
       "\n",
       "    .dataframe tbody tr th {\n",
       "        vertical-align: top;\n",
       "    }\n",
       "\n",
       "    .dataframe thead th {\n",
       "        text-align: right;\n",
       "    }\n",
       "</style>\n",
       "<table border=\"1\" class=\"dataframe\">\n",
       "  <thead>\n",
       "    <tr style=\"text-align: right;\">\n",
       "      <th></th>\n",
       "      <th>datetime</th>\n",
       "      <th>lat</th>\n",
       "      <th>lng</th>\n",
       "      <th>station</th>\n",
       "      <th>uid</th>\n",
       "    </tr>\n",
       "  </thead>\n",
       "  <tbody>\n",
       "    <tr>\n",
       "      <th>0</th>\n",
       "      <td>2014-11-14 02:00:00</td>\n",
       "      <td>31.248836</td>\n",
       "      <td>121.463246</td>\n",
       "      <td>2781</td>\n",
       "      <td>1</td>\n",
       "    </tr>\n",
       "    <tr>\n",
       "      <th>1</th>\n",
       "      <td>2014-10-22 06:00:00</td>\n",
       "      <td>31.248836</td>\n",
       "      <td>121.463246</td>\n",
       "      <td>2781</td>\n",
       "      <td>1</td>\n",
       "    </tr>\n",
       "    <tr>\n",
       "      <th>2</th>\n",
       "      <td>2014-10-22 03:00:00</td>\n",
       "      <td>31.276982</td>\n",
       "      <td>121.460649</td>\n",
       "      <td>496</td>\n",
       "      <td>1</td>\n",
       "    </tr>\n",
       "    <tr>\n",
       "      <th>3</th>\n",
       "      <td>2014-10-22 01:00:00</td>\n",
       "      <td>31.253930</td>\n",
       "      <td>121.455087</td>\n",
       "      <td>69</td>\n",
       "      <td>1</td>\n",
       "    </tr>\n",
       "    <tr>\n",
       "      <th>4</th>\n",
       "      <td>2014-10-21 23:00:00</td>\n",
       "      <td>31.281363</td>\n",
       "      <td>121.459935</td>\n",
       "      <td>456</td>\n",
       "      <td>1</td>\n",
       "    </tr>\n",
       "  </tbody>\n",
       "</table>\n",
       "</div>"
      ],
      "text/plain": [
       "              datetime        lat         lng  station  uid\n",
       "0  2014-11-14 02:00:00  31.248836  121.463246     2781    1\n",
       "1  2014-10-22 06:00:00  31.248836  121.463246     2781    1\n",
       "2  2014-10-22 03:00:00  31.276982  121.460649      496    1\n",
       "3  2014-10-22 01:00:00  31.253930  121.455087       69    1\n",
       "4  2014-10-21 23:00:00  31.281363  121.459935      456    1"
      ]
     },
     "execution_count": 16,
     "metadata": {},
     "output_type": "execute_result"
    }
   ],
   "source": [
    "data.head()"
   ]
  },
  {
   "cell_type": "code",
   "execution_count": 17,
   "metadata": {},
   "outputs": [],
   "source": [
    "data['datetime'] = pd.to_datetime(data['datetime'])"
   ]
  },
  {
   "cell_type": "code",
   "execution_count": 18,
   "metadata": {},
   "outputs": [
    {
     "data": {
      "application/vnd.jupyter.widget-view+json": {
       "model_id": "8d6383eefaab479db6c9b886e262c236",
       "version_major": 2,
       "version_minor": 0
      },
      "text/plain": [
       "  0%|          | 0/11243864 [00:00<?, ?it/s]"
      ]
     },
     "metadata": {},
     "output_type": "display_data"
    },
    {
     "data": {
      "application/vnd.jupyter.widget-view+json": {
       "model_id": "84af61a997e443de9f979749090d8728",
       "version_major": 2,
       "version_minor": 0
      },
      "text/plain": [
       "  0%|          | 0/11243864 [00:00<?, ?it/s]"
      ]
     },
     "metadata": {},
     "output_type": "display_data"
    },
    {
     "data": {
      "application/vnd.jupyter.widget-view+json": {
       "model_id": "c6a5eac411f14db8bbfe8a5ff527efa3",
       "version_major": 2,
       "version_minor": 0
      },
      "text/plain": [
       "  0%|          | 0/11243864 [00:00<?, ?it/s]"
      ]
     },
     "metadata": {},
     "output_type": "display_data"
    },
    {
     "data": {
      "application/vnd.jupyter.widget-view+json": {
       "model_id": "f8aa9b98012a44a88d07a40f6ec07f9c",
       "version_major": 2,
       "version_minor": 0
      },
      "text/plain": [
       "  0%|          | 0/11243864 [00:00<?, ?it/s]"
      ]
     },
     "metadata": {},
     "output_type": "display_data"
    }
   ],
   "source": [
    "# Extract month, day, hour and weekday from datetime\n",
    "data['month'] = data['datetime'].progress_apply(lambda x: x.month)\n",
    "data['day'] = data['datetime'].progress_apply(lambda x: x.day)\n",
    "data['weekday'] = data['datetime'].progress_apply(lambda x: x.weekday())\n",
    "data['hour'] = data['datetime'].progress_apply(lambda x: x.hour)"
   ]
  },
  {
   "cell_type": "code",
   "execution_count": 19,
   "metadata": {
    "collapsed": true,
    "jupyter": {
     "outputs_hidden": true
    },
    "tags": []
   },
   "outputs": [
    {
     "data": {
      "text/html": [
       "<div>\n",
       "<style scoped>\n",
       "    .dataframe tbody tr th:only-of-type {\n",
       "        vertical-align: middle;\n",
       "    }\n",
       "\n",
       "    .dataframe tbody tr th {\n",
       "        vertical-align: top;\n",
       "    }\n",
       "\n",
       "    .dataframe thead th {\n",
       "        text-align: right;\n",
       "    }\n",
       "</style>\n",
       "<table border=\"1\" class=\"dataframe\">\n",
       "  <thead>\n",
       "    <tr style=\"text-align: right;\">\n",
       "      <th></th>\n",
       "      <th>datetime</th>\n",
       "      <th>lat</th>\n",
       "      <th>lng</th>\n",
       "      <th>station</th>\n",
       "      <th>uid</th>\n",
       "      <th>month</th>\n",
       "      <th>day</th>\n",
       "      <th>weekday</th>\n",
       "      <th>hour</th>\n",
       "    </tr>\n",
       "  </thead>\n",
       "  <tbody>\n",
       "    <tr>\n",
       "      <th>0</th>\n",
       "      <td>2014-11-14 02:00:00</td>\n",
       "      <td>31.248836</td>\n",
       "      <td>121.463246</td>\n",
       "      <td>2781</td>\n",
       "      <td>1</td>\n",
       "      <td>11</td>\n",
       "      <td>14</td>\n",
       "      <td>4</td>\n",
       "      <td>2</td>\n",
       "    </tr>\n",
       "    <tr>\n",
       "      <th>1</th>\n",
       "      <td>2014-10-22 06:00:00</td>\n",
       "      <td>31.248836</td>\n",
       "      <td>121.463246</td>\n",
       "      <td>2781</td>\n",
       "      <td>1</td>\n",
       "      <td>10</td>\n",
       "      <td>22</td>\n",
       "      <td>2</td>\n",
       "      <td>6</td>\n",
       "    </tr>\n",
       "    <tr>\n",
       "      <th>2</th>\n",
       "      <td>2014-10-22 03:00:00</td>\n",
       "      <td>31.276982</td>\n",
       "      <td>121.460649</td>\n",
       "      <td>496</td>\n",
       "      <td>1</td>\n",
       "      <td>10</td>\n",
       "      <td>22</td>\n",
       "      <td>2</td>\n",
       "      <td>3</td>\n",
       "    </tr>\n",
       "    <tr>\n",
       "      <th>3</th>\n",
       "      <td>2014-10-22 01:00:00</td>\n",
       "      <td>31.253930</td>\n",
       "      <td>121.455087</td>\n",
       "      <td>69</td>\n",
       "      <td>1</td>\n",
       "      <td>10</td>\n",
       "      <td>22</td>\n",
       "      <td>2</td>\n",
       "      <td>1</td>\n",
       "    </tr>\n",
       "    <tr>\n",
       "      <th>4</th>\n",
       "      <td>2014-10-21 23:00:00</td>\n",
       "      <td>31.281363</td>\n",
       "      <td>121.459935</td>\n",
       "      <td>456</td>\n",
       "      <td>1</td>\n",
       "      <td>10</td>\n",
       "      <td>21</td>\n",
       "      <td>1</td>\n",
       "      <td>23</td>\n",
       "    </tr>\n",
       "  </tbody>\n",
       "</table>\n",
       "</div>"
      ],
      "text/plain": [
       "             datetime        lat         lng  station  uid  month  day  \\\n",
       "0 2014-11-14 02:00:00  31.248836  121.463246     2781    1     11   14   \n",
       "1 2014-10-22 06:00:00  31.248836  121.463246     2781    1     10   22   \n",
       "2 2014-10-22 03:00:00  31.276982  121.460649      496    1     10   22   \n",
       "3 2014-10-22 01:00:00  31.253930  121.455087       69    1     10   22   \n",
       "4 2014-10-21 23:00:00  31.281363  121.459935      456    1     10   21   \n",
       "\n",
       "   weekday  hour  \n",
       "0        4     2  \n",
       "1        2     6  \n",
       "2        2     3  \n",
       "3        2     1  \n",
       "4        1    23  "
      ]
     },
     "execution_count": 19,
     "metadata": {},
     "output_type": "execute_result"
    }
   ],
   "source": [
    "data.head()"
   ]
  },
  {
   "cell_type": "markdown",
   "metadata": {
    "jp-MarkdownHeadingCollapsed": true,
    "tags": []
   },
   "source": [
    "## Visualization\n",
    "\n",
    "In this section we plot all the antennas on a map to help visualize the problem. \n",
    "We will use similar map plotting to visualize the results of requests."
   ]
  },
  {
   "cell_type": "code",
   "execution_count": 35,
   "metadata": {},
   "outputs": [],
   "source": [
    "import geopandas as gpd\n",
    "from keplergl import KeplerGl\n",
    "#from shapely.geometry import Point, LineString, MultiLineString"
   ]
  },
  {
   "cell_type": "code",
   "execution_count": 36,
   "metadata": {},
   "outputs": [],
   "source": [
    "with open('id_to_gps.json', 'r') as in_file:\n",
    "    station_to_gps = json.load(in_file)"
   ]
  },
  {
   "cell_type": "code",
   "execution_count": 37,
   "metadata": {},
   "outputs": [],
   "source": [
    "ids = []\n",
    "lat = []\n",
    "long = []\n",
    "for k, v in station_to_gps.items():\n",
    "    ids.append(int(k))\n",
    "    lat.append(v[0])\n",
    "    long.append(v[1])\n",
    "df_stations = pd.DataFrame.from_dict({'id': ids, 'latitude': lat, 'longitude': long})"
   ]
  },
  {
   "cell_type": "code",
   "execution_count": 38,
   "metadata": {},
   "outputs": [],
   "source": [
    "def plot_map(df = None, add_stations=True, map_height=900, add_ref_point=False):\n",
    "    \n",
    "    if add_ref_point:\n",
    "        config = {\n",
    "        'version': 'v1',\n",
    "        'config': {\n",
    "            'mapState': {\n",
    "                'latitude': 31.23696246196823,\n",
    "                'longitude': 121.5124232964245,\n",
    "                'zoom': 9\n",
    "            }\n",
    "        }\n",
    "        }\n",
    "        map_cluster = KeplerGl(height=map_height, config=config)\n",
    "    else:\n",
    "        map_cluster = KeplerGl(height=map_height)\n",
    "    if add_stations:\n",
    "        map_cluster.add_data(data=df_stations, name=\"stations\")\n",
    "    if df is not None:\n",
    "        map_cluster.add_data(data=df, name=\"data\")\n",
    "    return map_cluster"
   ]
  },
  {
   "cell_type": "code",
   "execution_count": 40,
   "metadata": {},
   "outputs": [],
   "source": [
    "val_counts = data['station'].value_counts()\n",
    "\n",
    "df = pd.DataFrame.from_dict({'id': ids,\n",
    "                             'latitude': lat,\n",
    "                             'longitude': long,\n",
    "                             'count': [val_counts.get(s, 0) for s in ids]})"
   ]
  },
  {
   "cell_type": "code",
   "execution_count": 42,
   "metadata": {},
   "outputs": [
    {
     "name": "stdout",
     "output_type": "stream",
     "text": [
      "User Guide: https://docs.kepler.gl/docs/keplergl-jupyter\n"
     ]
    },
    {
     "data": {
      "application/vnd.jupyter.widget-view+json": {
       "model_id": "2b4ec2d0487b4a5a92bcffe36eef63c5",
       "version_major": 2,
       "version_minor": 0
      },
      "text/plain": [
       "KeplerGl(data={'data': {'index': [0, 1, 2, 3, 4, 5, 6, 7, 8, 9, 10, 11, 12, 13, 14, 15, 16, 17, 18, 19, 20, 21…"
      ]
     },
     "metadata": {},
     "output_type": "display_data"
    }
   ],
   "source": [
    "plot_map(df, add_stations=False)"
   ]
  },
  {
   "cell_type": "markdown",
   "metadata": {},
   "source": [
    "## Examples of request"
   ]
  },
  {
   "cell_type": "markdown",
   "metadata": {
    "jp-MarkdownHeadingCollapsed": true,
    "tags": []
   },
   "source": [
    "### 1. How many people were at a station *s=702* at the time *t=20/10/2014 11h*?"
   ]
  },
  {
   "cell_type": "code",
   "execution_count": 25,
   "metadata": {},
   "outputs": [
    {
     "name": "stdout",
     "output_type": "stream",
     "text": [
      "There were 5 peoples at station 702 the 20/10/2014 at 11h.\n"
     ]
    }
   ],
   "source": [
    "station_id = 702\n",
    "month = 10\n",
    "day = 20\n",
    "hour = 11\n",
    "\n",
    "res = len(data.loc[(data['month'] == month) & (data['day'] == day) & (data['hour'] == hour) & (data['station'] == station_id)]['uid'].unique())\n",
    "\n",
    "print(f'There were {res} peoples at station {station_id} the {day}/{month}/2014 at {hour}h.')"
   ]
  },
  {
   "cell_type": "code",
   "execution_count": 26,
   "metadata": {},
   "outputs": [
    {
     "name": "stdout",
     "output_type": "stream",
     "text": [
      "User Guide: https://docs.kepler.gl/docs/keplergl-jupyter\n"
     ]
    },
    {
     "data": {
      "application/vnd.jupyter.widget-view+json": {
       "model_id": "d6d6a8b88e0446969eadcd1db58289f8",
       "version_major": 2,
       "version_minor": 0
      },
      "text/plain": [
       "KeplerGl(config={'version': 'v1', 'config': {'mapState': {'latitude': 31.23696246196823, 'longitude': 121.5124…"
      ]
     },
     "metadata": {},
     "output_type": "display_data"
    }
   ],
   "source": [
    "df = pd.DataFrame.from_dict({\n",
    "    'lat': [station_to_gps[str(station_id)][0]],\n",
    "    'lng': [station_to_gps[str(station_id)][1]],\n",
    "    'total': [res]\n",
    "})\n",
    "plot_map(df, add_stations=False, add_ref_point=True)"
   ]
  },
  {
   "cell_type": "markdown",
   "metadata": {
    "jp-MarkdownHeadingCollapsed": true,
    "tags": []
   },
   "source": [
    "### 2. How many people were at a station *s=702* from the *15/10/2014 5h* to *21/10/2014 21h*?"
   ]
  },
  {
   "cell_type": "code",
   "execution_count": 27,
   "metadata": {},
   "outputs": [
    {
     "name": "stdout",
     "output_type": "stream",
     "text": [
      "From the 2014-10-15 05:00:00 to the 2014-10-21 21:00:00 there were 263 unique peoples that went by station 702.\n"
     ]
    }
   ],
   "source": [
    "station_id = 702\n",
    "start_date = datetime(year=2014, month=10, day=15, hour=5)\n",
    "end_date = datetime(year=2014, month=10, day=21, hour=21)\n",
    "res = len(data.loc[(data['datetime'] >= start_date) & (data['datetime'] <= end_date) & (data['station'] == station_id)]['uid'].unique())\n",
    "print(f'From the {start_date} to the {end_date} there were {res} unique peoples that went by station {station_id}.')"
   ]
  },
  {
   "cell_type": "code",
   "execution_count": 28,
   "metadata": {},
   "outputs": [
    {
     "name": "stdout",
     "output_type": "stream",
     "text": [
      "User Guide: https://docs.kepler.gl/docs/keplergl-jupyter\n"
     ]
    },
    {
     "data": {
      "application/vnd.jupyter.widget-view+json": {
       "model_id": "6d18e56b75514072aed0d928f691b8e6",
       "version_major": 2,
       "version_minor": 0
      },
      "text/plain": [
       "KeplerGl(config={'version': 'v1', 'config': {'mapState': {'latitude': 31.23696246196823, 'longitude': 121.5124…"
      ]
     },
     "metadata": {},
     "output_type": "display_data"
    }
   ],
   "source": [
    "df = pd.DataFrame.from_dict({\n",
    "    'lat': [station_to_gps[str(station_id)][0]],\n",
    "    'lng': [station_to_gps[str(station_id)][1]],\n",
    "    'total': [res]\n",
    "})\n",
    "plot_map(df, add_stations=False, add_ref_point=True)"
   ]
  },
  {
   "cell_type": "markdown",
   "metadata": {
    "jp-MarkdownHeadingCollapsed": true,
    "tags": []
   },
   "source": [
    "### 3. How many people were at stations *2593, 2865, 1463, 398, 2794* the 14/09/2014?"
   ]
  },
  {
   "cell_type": "code",
   "execution_count": 29,
   "metadata": {},
   "outputs": [
    {
     "name": "stdout",
     "output_type": "stream",
     "text": [
      "From the 2014-09-14 00:00:00 to the 2014-09-15 00:00:00 there were 22 peoples that were at one of the following station station [2593, 2865, 1463, 398, 2794].\n"
     ]
    }
   ],
   "source": [
    "stations_id = [2593, 2865, 1463, 398, 2794]\n",
    "start_date = datetime(year=2014, month=9, day=14)\n",
    "end_date = start_date + timedelta(days=1)\n",
    "res = len(data.loc[(data['datetime'] >= start_date) & (data['datetime'] <= end_date) & (data['station'].isin(stations_id))]['uid'].unique())\n",
    "print(f'From the {start_date} to the {end_date} there were {res} peoples that were at one of the following station station {stations_id}.')"
   ]
  },
  {
   "cell_type": "code",
   "execution_count": 30,
   "metadata": {},
   "outputs": [
    {
     "name": "stdout",
     "output_type": "stream",
     "text": [
      "User Guide: https://docs.kepler.gl/docs/keplergl-jupyter\n"
     ]
    },
    {
     "data": {
      "application/vnd.jupyter.widget-view+json": {
       "model_id": "e0feda7c882d43a7b3ad8df041985b7d",
       "version_major": 2,
       "version_minor": 0
      },
      "text/plain": [
       "KeplerGl(data={'data': {'index': [0, 1, 2, 3, 4], 'columns': ['lat', 'lng', 'total'], 'data': [[31.208153, 121…"
      ]
     },
     "metadata": {},
     "output_type": "display_data"
    }
   ],
   "source": [
    "df = pd.DataFrame.from_dict({\n",
    "    'lat': [station_to_gps[str(s)][0] for s in stations_id],\n",
    "    'lng': [station_to_gps[str(s)][1] for s in stations_id],\n",
    "    'total': [res]*len(stations_id)\n",
    "})\n",
    "plot_map(df, add_stations=False)"
   ]
  },
  {
   "cell_type": "markdown",
   "metadata": {
    "jp-MarkdownHeadingCollapsed": true,
    "tags": []
   },
   "source": [
    "### 4. How many people were at stations *2593, 2865, 1463, 398, 2794* on the 14/09/2014 were at station *31* the 17/09/2014?"
   ]
  },
  {
   "cell_type": "code",
   "execution_count": 31,
   "metadata": {},
   "outputs": [
    {
     "name": "stdout",
     "output_type": "stream",
     "text": [
      "There were 2 peoples that were at stations [2593, 2865, 1463, 398, 2794] the 14/09/2014 that also at station [31] the 17/09/2014\n"
     ]
    }
   ],
   "source": [
    "first_stations_id = [2593, 2865, 1463, 398, 2794]\n",
    "start_date = datetime(year=2014, month=9, day=14)\n",
    "end_date = start_date + timedelta(days=1)\n",
    "uids_first = data.loc[(data['datetime'] >= start_date) & (data['datetime'] <= end_date) & (data['station'].isin(first_stations_id))]['uid'].unique()\n",
    "\n",
    "\n",
    "second_stations_id = [31]#, 1461, 105, 1470]\n",
    "start_date = datetime(year=2014, month=9, day=17)\n",
    "end_date = start_date + timedelta(days=1)\n",
    "uids_second = data.loc[(data['datetime'] >= start_date) & (data['datetime'] <= end_date) & (data['station'].isin(second_stations_id))]['uid'].unique()\n",
    "\n",
    "res = sum([(x in uids_first) for x in uids_second])\n",
    "\n",
    "print(f'There were {res} peoples that were at stations {first_stations_id} the 14/09/2014 that also at station {second_stations_id} the 17/09/2014')"
   ]
  },
  {
   "cell_type": "code",
   "execution_count": 32,
   "metadata": {},
   "outputs": [
    {
     "name": "stdout",
     "output_type": "stream",
     "text": [
      "User Guide: https://docs.kepler.gl/docs/keplergl-jupyter\n"
     ]
    },
    {
     "data": {
      "application/vnd.jupyter.widget-view+json": {
       "model_id": "d64d175eea6947998f88181bae3a5aa5",
       "version_major": 2,
       "version_minor": 0
      },
      "text/plain": [
       "KeplerGl(data={'data': {'index': [0, 1, 2, 3, 4], 'columns': ['Source Lat', 'Source Lng', 'Target Lat', 'Targe…"
      ]
     },
     "metadata": {},
     "output_type": "display_data"
    }
   ],
   "source": [
    "slat = []\n",
    "slng = []\n",
    "tlat = []\n",
    "tlng = []\n",
    "for s in first_stations_id:\n",
    "    for t in second_stations_id:\n",
    "        slat.append(station_to_gps[str(s)][0])\n",
    "        slng.append(station_to_gps[str(s)][1])\n",
    "        tlat.append(station_to_gps[str(t)][0])\n",
    "        tlng.append(station_to_gps[str(t)][1])\n",
    "df = pd.DataFrame.from_dict({\n",
    "    'Source Lat': slat,\n",
    "    'Source Lng': slng,\n",
    "    'Target Lat': tlat,\n",
    "    'Target Lng': tlng,\n",
    "    'total': [res]*len(slat)\n",
    "})\n",
    "plot_map(df, add_stations=False)"
   ]
  },
  {
   "cell_type": "markdown",
   "metadata": {
    "jp-MarkdownHeadingCollapsed": true,
    "tags": []
   },
   "source": [
    "### 5. How many people were at stations *2593, 2865, 1463, 398, 2794* on the first week of september were at station *31, 1461, 105, 1470* the fist week of november?"
   ]
  },
  {
   "cell_type": "code",
   "execution_count": 33,
   "metadata": {},
   "outputs": [
    {
     "name": "stdout",
     "output_type": "stream",
     "text": [
      "There were 18 peoples that were at stations [2593, 2865, 1463, 398, 2794] the first week of september that also at stations [31, 1461, 105, 1470] the first of november.\n"
     ]
    }
   ],
   "source": [
    "first_stations_id = [2593, 2865, 1463, 398, 2794]\n",
    "start_date = datetime(year=2014, month=9, day=1)\n",
    "end_date = start_date + timedelta(days=7)\n",
    "uids_first = data.loc[(data['datetime'] >= start_date) & (data['datetime'] <= end_date) & (data['station'].isin(first_stations_id))]['uid'].unique()\n",
    "\n",
    "second_stations_id = [31, 1461, 105, 1470]\n",
    "start_date = datetime(year=2014, month=11, day=3)\n",
    "end_date = start_date + timedelta(days=7)\n",
    "uids_second = data.loc[(data['datetime'] >= start_date) & (data['datetime'] <= end_date) & (data['station'].isin(second_stations_id))]['uid'].unique()\n",
    "\n",
    "res = sum([(x in uids_first) for x in uids_second])\n",
    "\n",
    "print(f'There were {res} peoples that were at stations {first_stations_id} the first week of september that also at stations {second_stations_id} the first of november.')"
   ]
  },
  {
   "cell_type": "code",
   "execution_count": 34,
   "metadata": {},
   "outputs": [
    {
     "name": "stdout",
     "output_type": "stream",
     "text": [
      "User Guide: https://docs.kepler.gl/docs/keplergl-jupyter\n"
     ]
    },
    {
     "data": {
      "application/vnd.jupyter.widget-view+json": {
       "model_id": "dd597a24b0704cc091420b50c0777e6b",
       "version_major": 2,
       "version_minor": 0
      },
      "text/plain": [
       "KeplerGl(data={'data': {'index': [0, 1, 2, 3, 4, 5, 6, 7, 8, 9, 10, 11, 12, 13, 14, 15, 16, 17, 18, 19], 'colu…"
      ]
     },
     "metadata": {},
     "output_type": "display_data"
    }
   ],
   "source": [
    "slat = []\n",
    "slng = []\n",
    "tlat = []\n",
    "tlng = []\n",
    "\n",
    "for s in first_stations_id:\n",
    "    for t in second_stations_id:\n",
    "        slat.append(station_to_gps[str(s)][0])\n",
    "        slng.append(station_to_gps[str(s)][1])\n",
    "        tlat.append(station_to_gps[str(t)][0])\n",
    "        tlng.append(station_to_gps[str(t)][1])\n",
    "\n",
    "df = pd.DataFrame.from_dict({\n",
    "    'Source Lat': slat,\n",
    "    'Source Lng': slng,\n",
    "    'Target Lat': tlat,\n",
    "    'Target Lng': tlng,\n",
    "    'total': [res]*len(slat)\n",
    "})\n",
    "\n",
    "plot_map(df, add_stations=False)"
   ]
  },
  {
   "cell_type": "markdown",
   "metadata": {
    "tags": []
   },
   "source": [
    "## Privacy attacks\n",
    "\n",
    "*Most attacks are very slow, it is recommended to not use them on the all dataset*\n",
    "\n",
    "Basic privacy attacks on mobility implemented in scikit mobility. The attacks are based on the followings papers:\n",
    " - Roberto Pellungrini, Luca Pappalardo, Francesca Pratesi, and Anna Monreale. 2017. A Data Mining Approach to Assess Privacy Risk in Human Mobility Data. ACM Trans. Intell. Syst. Technol. 9, 3, Article 31 (December 2017), 27 pages.\n",
    " - Roberto Pellungrini, Luca Pappalardo, Francesca Pratesi, Anna Monreale: Analyzing Privacy Risk in Human Mobility Data. STAF Workshops 2018: 114-129\n",
    " \n",
    "More infos in scikit mobility docs:\n",
    " - https://scikit-mobility.github.io/scikit-mobility/index.html"
   ]
  },
  {
   "cell_type": "code",
   "execution_count": 43,
   "metadata": {},
   "outputs": [],
   "source": [
    "import skmob\n",
    "from skmob.privacy import attacks\n",
    "from skmob.core.trajectorydataframe import TrajDataFrame"
   ]
  },
  {
   "cell_type": "code",
   "execution_count": 44,
   "metadata": {},
   "outputs": [],
   "source": [
    "# We need to convert our pandas DataFrame to sk mobility's TrajDataFrame\n",
    "tdf = TrajDataFrame(data)"
   ]
  },
  {
   "cell_type": "markdown",
   "metadata": {
    "jp-MarkdownHeadingCollapsed": true,
    "tags": []
   },
   "source": [
    "### 1. Home Work Attack\n",
    "\n",
    "In a home and work attack the adversary knows the coordinates of the two locations most frequently visited by an individual, and matches them against frequency vectors. A frequency vector is an aggregation on trajectory data showing the unique locations visited by an individual and the frequency with which he visited those locations. This attack does not require the generation of combinations to build the possible instances of background knowledge."
   ]
  },
  {
   "cell_type": "code",
   "execution_count": 45,
   "metadata": {},
   "outputs": [],
   "source": [
    "at = attacks.HomeWorkAttack()"
   ]
  },
  {
   "cell_type": "code",
   "execution_count": 48,
   "metadata": {},
   "outputs": [],
   "source": [
    "# We assess the risk for the individuals 28651, 9965, 22, 1\n",
    "r = at.assess_risk(tdf, targets=[28651, 9965, 22, 1])"
   ]
  },
  {
   "cell_type": "code",
   "execution_count": 49,
   "metadata": {},
   "outputs": [
    {
     "data": {
      "text/html": [
       "<div>\n",
       "<style scoped>\n",
       "    .dataframe tbody tr th:only-of-type {\n",
       "        vertical-align: middle;\n",
       "    }\n",
       "\n",
       "    .dataframe tbody tr th {\n",
       "        vertical-align: top;\n",
       "    }\n",
       "\n",
       "    .dataframe thead th {\n",
       "        text-align: right;\n",
       "    }\n",
       "</style>\n",
       "<table border=\"1\" class=\"dataframe\">\n",
       "  <thead>\n",
       "    <tr style=\"text-align: right;\">\n",
       "      <th></th>\n",
       "      <th>uid</th>\n",
       "      <th>risk</th>\n",
       "    </tr>\n",
       "  </thead>\n",
       "  <tbody>\n",
       "    <tr>\n",
       "      <th>0</th>\n",
       "      <td>1</td>\n",
       "      <td>1.000000</td>\n",
       "    </tr>\n",
       "    <tr>\n",
       "      <th>1</th>\n",
       "      <td>22</td>\n",
       "      <td>1.000000</td>\n",
       "    </tr>\n",
       "    <tr>\n",
       "      <th>2</th>\n",
       "      <td>9965</td>\n",
       "      <td>1.000000</td>\n",
       "    </tr>\n",
       "    <tr>\n",
       "      <th>3</th>\n",
       "      <td>28651</td>\n",
       "      <td>0.005618</td>\n",
       "    </tr>\n",
       "  </tbody>\n",
       "</table>\n",
       "</div>"
      ],
      "text/plain": [
       "     uid      risk\n",
       "0      1  1.000000\n",
       "1     22  1.000000\n",
       "2   9965  1.000000\n",
       "3  28651  0.005618"
      ]
     },
     "execution_count": 49,
     "metadata": {},
     "output_type": "execute_result"
    }
   ],
   "source": [
    "r"
   ]
  },
  {
   "cell_type": "markdown",
   "metadata": {
    "jp-MarkdownHeadingCollapsed": true,
    "tags": []
   },
   "source": [
    "### 2. Location Attack\n",
    "\n",
    "In a location attack the adversary knows the coordinates of the locations visited by an individual and matches them against trajectories."
   ]
  },
  {
   "cell_type": "code",
   "execution_count": 52,
   "metadata": {},
   "outputs": [],
   "source": [
    "at = attacks.LocationAttack(knowledge_length=2)"
   ]
  },
  {
   "cell_type": "code",
   "execution_count": null,
   "metadata": {},
   "outputs": [],
   "source": [
    "# We assess the risk for the individuals 28651, 9965, 22, 1\n",
    "r = at.assess_risk(tdf, targets=[28651, 9965, 22, 1])"
   ]
  },
  {
   "cell_type": "code",
   "execution_count": null,
   "metadata": {},
   "outputs": [],
   "source": [
    "r"
   ]
  },
  {
   "cell_type": "markdown",
   "metadata": {
    "jp-MarkdownHeadingCollapsed": true,
    "tags": []
   },
   "source": [
    "### 3. Location Frequency Attack\n",
    "\n",
    "In a location frequency attack the adversary knows the coordinates of the unique locations visited by an individual and the frequency with which he visited them, and matches them against frequency vectors. A frequency vector, is an aggregation on trajectory data showing the unique locations visited by an individual and the frequency with which he visited those locations. It is possible to specify a tolerance level for the matching of the frequency."
   ]
  },
  {
   "cell_type": "code",
   "execution_count": null,
   "metadata": {},
   "outputs": [],
   "source": [
    "at = attacks.LocationFrequencyAttack(knowledge_length=2)"
   ]
  },
  {
   "cell_type": "code",
   "execution_count": null,
   "metadata": {},
   "outputs": [],
   "source": [
    "# We assess the risk for the individuals 28651, 9965, 22, 1\n",
    "r = at.assess_risk(tdf, targets=[28651, 9965, 22, 1])"
   ]
  },
  {
   "cell_type": "code",
   "execution_count": null,
   "metadata": {},
   "outputs": [],
   "source": [
    "r"
   ]
  },
  {
   "cell_type": "markdown",
   "metadata": {
    "jp-MarkdownHeadingCollapsed": true,
    "tags": []
   },
   "source": [
    "### 4. Location Probability Attack\n",
    "\n",
    "In a location probability attack the adversary knows the coordinates of the unique locations visited by an individual and the probability with which he visited them, and matches them against probability vectors. A probability vector, is an aggregation on trajectory data showing the unique locations visited by an individual and the probability with which he visited those locations. It is possible to specify a tolerance level for the matching of the probability."
   ]
  },
  {
   "cell_type": "code",
   "execution_count": null,
   "metadata": {},
   "outputs": [],
   "source": [
    "at = attacks.LocationProbabilityAttack(knowledge_length=2)"
   ]
  },
  {
   "cell_type": "code",
   "execution_count": null,
   "metadata": {},
   "outputs": [],
   "source": [
    "# We assess the risk for the individuals 28651, 9965, 22, 1\n",
    "r = at.assess_risk(tdf, targets=[28651, 9965, 22, 1])"
   ]
  },
  {
   "cell_type": "code",
   "execution_count": null,
   "metadata": {},
   "outputs": [],
   "source": [
    "r"
   ]
  },
  {
   "cell_type": "markdown",
   "metadata": {
    "jp-MarkdownHeadingCollapsed": true,
    "tags": []
   },
   "source": [
    "### 5. Location Proportion Attack\n",
    "\n",
    "In a location proportion attack the adversary knows the coordinates of the unique locations visited by an individual and the relative proportions between their frequencies of visit, and matches them against frequency vectors. A frequency vector is an aggregation on trajectory data showing the unique locations visited by an individual and the frequency with which he visited those locations. It is possible to specify a tolerance level for the matching of the proportion."
   ]
  },
  {
   "cell_type": "code",
   "execution_count": null,
   "metadata": {},
   "outputs": [],
   "source": [
    "at = attacks.LocationProportionAttack(knowledge_length=2)"
   ]
  },
  {
   "cell_type": "code",
   "execution_count": null,
   "metadata": {},
   "outputs": [],
   "source": [
    "# We assess the risk for the individuals 28651, 9965, 22, 1\n",
    "r = at.assess_risk(tdf, targets=[28651, 9965, 22, 1])"
   ]
  },
  {
   "cell_type": "code",
   "execution_count": null,
   "metadata": {},
   "outputs": [],
   "source": [
    "r"
   ]
  },
  {
   "cell_type": "markdown",
   "metadata": {
    "jp-MarkdownHeadingCollapsed": true,
    "tags": []
   },
   "source": [
    "### 6. Location Sequence Attack \n",
    "In a location sequence attack the adversary knows the coordinates of locations visited by an individual and the order in which they were visited and matches them against trajectories."
   ]
  },
  {
   "cell_type": "code",
   "execution_count": null,
   "metadata": {},
   "outputs": [],
   "source": [
    "at = attacks.LocationSequenceAttack(knowledge_length=2)"
   ]
  },
  {
   "cell_type": "code",
   "execution_count": null,
   "metadata": {},
   "outputs": [],
   "source": [
    "# We assess the risk for the individuals 28651, 9965, 22, 1\n",
    "r = at.assess_risk(tdf, targets=[28651, 9965, 22, 1])"
   ]
  },
  {
   "cell_type": "code",
   "execution_count": null,
   "metadata": {},
   "outputs": [],
   "source": [
    "r"
   ]
  },
  {
   "cell_type": "markdown",
   "metadata": {
    "jp-MarkdownHeadingCollapsed": true,
    "tags": []
   },
   "source": [
    "### 7. Location Time Attack\n",
    "\n",
    "In a location time attack the adversary knows the coordinates of locations visited by an individual and the time in which they were visited and matches them against trajectories. The precision at which to consider the temporal information can also be specified."
   ]
  },
  {
   "cell_type": "code",
   "execution_count": null,
   "metadata": {},
   "outputs": [],
   "source": [
    "at = attacks.LocationTimeAttack(knowledge_length=2)"
   ]
  },
  {
   "cell_type": "code",
   "execution_count": null,
   "metadata": {},
   "outputs": [],
   "source": [
    "# We assess the risk for the individuals 28651, 9965, 22, 1\n",
    "r = at.assess_risk(tdf, targets=[28651, 9965, 22, 1])"
   ]
  },
  {
   "cell_type": "code",
   "execution_count": null,
   "metadata": {},
   "outputs": [],
   "source": [
    "r"
   ]
  },
  {
   "cell_type": "markdown",
   "metadata": {
    "jp-MarkdownHeadingCollapsed": true,
    "tags": []
   },
   "source": [
    "### 8. Unique Location Attack\n",
    "\n",
    "In a unique location attack the adversary knows the coordinates of unique locations visited by an individual, and matches them against frequency vectors. A frequency vector, is an aggregation on trajectory data showing the unique locations visited by an individual and the frequency with which he visited those locations."
   ]
  },
  {
   "cell_type": "code",
   "execution_count": null,
   "metadata": {},
   "outputs": [],
   "source": [
    "at = attacks.UniqueLocationAttack(knowledge_length=2)"
   ]
  },
  {
   "cell_type": "code",
   "execution_count": null,
   "metadata": {},
   "outputs": [],
   "source": [
    "# We assess the risk for the individuals 28651, 9965, 22, 1\n",
    "r = at.assess_risk(tdf, targets=[28651, 9965, 22, 1])"
   ]
  },
  {
   "cell_type": "code",
   "execution_count": null,
   "metadata": {},
   "outputs": [],
   "source": [
    "r"
   ]
  }
 ],
 "metadata": {
  "kernelspec": {
   "display_name": "Python 3 (ipykernel)",
   "language": "python",
   "name": "python3"
  },
  "language_info": {
   "codemirror_mode": {
    "name": "ipython",
    "version": 3
   },
   "file_extension": ".py",
   "mimetype": "text/x-python",
   "name": "python",
   "nbconvert_exporter": "python",
   "pygments_lexer": "ipython3",
   "version": "3.9.13"
  },
  "vscode": {
   "interpreter": {
    "hash": "64bbbbd5afb5e219095f7d429e6a59a6be38987be589a65112a6445b15d6a2ac"
   }
  }
 },
 "nbformat": 4,
 "nbformat_minor": 4
}
